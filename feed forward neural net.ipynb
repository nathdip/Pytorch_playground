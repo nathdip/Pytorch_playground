{
 "cells": [
  {
   "cell_type": "markdown",
   "metadata": {},
   "source": [
    "### Feed Forward Neural Networks in Pytorch"
   ]
  },
  {
   "cell_type": "code",
   "execution_count": 160,
   "metadata": {
    "collapsed": true
   },
   "outputs": [],
   "source": [
    "import torch\n",
    "import torch.nn as nn\n",
    "import torchvision.datasets as dsets\n",
    "import torchvision.transforms as transforms\n",
    "from torch.autograd import Variable\n",
    "import numpy as np\n",
    "import matplotlib.pyplot as plt\n",
    "%matplotlib inline"
   ]
  },
  {
   "cell_type": "code",
   "execution_count": 161,
   "metadata": {},
   "outputs": [],
   "source": [
    "training_data = dsets.MNIST(root = './data', \n",
    "                            train = True, \n",
    "                            transform= transforms.ToTensor(), \n",
    "                            download = True)"
   ]
  },
  {
   "cell_type": "code",
   "execution_count": 162,
   "metadata": {
    "collapsed": true
   },
   "outputs": [],
   "source": [
    "test_data = dsets.MNIST(root = './data', \n",
    "                        train = False, \n",
    "                        transform= transforms.ToTensor())"
   ]
  },
  {
   "cell_type": "code",
   "execution_count": 163,
   "metadata": {},
   "outputs": [
    {
     "data": {
      "text/plain": [
       "60000"
      ]
     },
     "execution_count": 163,
     "metadata": {},
     "output_type": "execute_result"
    }
   ],
   "source": [
    "len(training_data)"
   ]
  },
  {
   "cell_type": "code",
   "execution_count": 164,
   "metadata": {},
   "outputs": [],
   "source": [
    "image = training_data[0][0].numpy().reshape(28, 28)"
   ]
  },
  {
   "cell_type": "code",
   "execution_count": 165,
   "metadata": {
    "collapsed": true
   },
   "outputs": [],
   "source": [
    "batch_size = 100\n",
    "nb_epoch = 15"
   ]
  },
  {
   "cell_type": "code",
   "execution_count": 166,
   "metadata": {},
   "outputs": [],
   "source": [
    "trainloader = torch.utils.data.DataLoader(dataset=training_data, batch_size= batch_size, shuffle= True)\n",
    "testloader = torch.utils.data.DataLoader(dataset=test_data, batch_size= batch_size, shuffle= False)"
   ]
  },
  {
   "cell_type": "markdown",
   "metadata": {},
   "source": [
    "### Building the model"
   ]
  },
  {
   "cell_type": "code",
   "execution_count": 167,
   "metadata": {},
   "outputs": [],
   "source": [
    "class FeedForwardNeuralNetwork(nn.Module):\n",
    "    def __init__(self):\n",
    "        super().__init__()\n",
    "        self.fc1 = nn.Linear(input_dim, hidden_dim)\n",
    "        self.sigmoid = nn.Sigmoid()\n",
    "        self.fc2 = nn.Linear( hidden_dim, output_dim)\n",
    "    def forward(self, x):\n",
    "        out = self.fc1(x)\n",
    "        out = self.sigmoid(out)\n",
    "        out = self.fc2(out)\n",
    "        return out\n",
    "    "
   ]
  },
  {
   "cell_type": "code",
   "execution_count": 168,
   "metadata": {
    "collapsed": true
   },
   "outputs": [],
   "source": [
    "input_dim = 28*28\n",
    "hidden_dim = 100\n",
    "output_dim = 10"
   ]
  },
  {
   "cell_type": "code",
   "execution_count": 169,
   "metadata": {},
   "outputs": [],
   "source": [
    "model = FeedForwardNeuralNetwork()"
   ]
  },
  {
   "cell_type": "markdown",
   "metadata": {},
   "source": [
    "### Building the classifier"
   ]
  },
  {
   "cell_type": "code",
   "execution_count": 170,
   "metadata": {
    "collapsed": true
   },
   "outputs": [],
   "source": [
    "learning_rate = .001"
   ]
  },
  {
   "cell_type": "code",
   "execution_count": 171,
   "metadata": {
    "collapsed": true
   },
   "outputs": [],
   "source": [
    "criterion = nn.CrossEntropyLoss()"
   ]
  },
  {
   "cell_type": "code",
   "execution_count": 172,
   "metadata": {
    "collapsed": true
   },
   "outputs": [],
   "source": [
    "optimizer = torch.optim.Adam(model.parameters(), lr= learning_rate)"
   ]
  },
  {
   "cell_type": "code",
   "execution_count": 173,
   "metadata": {},
   "outputs": [
    {
     "name": "stdout",
     "output_type": "stream",
     "text": [
      "<bound method Module.parameters of FeedForwardNeuralNetwork(\n",
      "  (fc1): Linear(in_features=784, out_features=100, bias=True)\n",
      "  (sigmoid): Sigmoid()\n",
      "  (fc2): Linear(in_features=100, out_features=10, bias=True)\n",
      ")>\n"
     ]
    }
   ],
   "source": [
    "print(model.parameters)"
   ]
  },
  {
   "cell_type": "code",
   "execution_count": 174,
   "metadata": {},
   "outputs": [
    {
     "name": "stdout",
     "output_type": "stream",
     "text": [
      "Iteration: 100. Loss: 0.9899822473526001. Accuracy: 0.8228\n",
      "Iteration: 200. Loss: 0.5476937890052795. Accuracy: 0.8794\n",
      "Iteration: 300. Loss: 0.3893575370311737. Accuracy: 0.8985\n",
      "Iteration: 400. Loss: 0.4072355031967163. Accuracy: 0.9081\n",
      "Iteration: 500. Loss: 0.33666422963142395. Accuracy: 0.9137\n",
      "Iteration: 600. Loss: 0.24549320340156555. Accuracy: 0.9159\n",
      "Iteration: 700. Loss: 0.42495062947273254. Accuracy: 0.92\n",
      "Iteration: 800. Loss: 0.22891515493392944. Accuracy: 0.9231\n",
      "Iteration: 900. Loss: 0.27738675475120544. Accuracy: 0.9272\n",
      "Iteration: 1000. Loss: 0.2647709250450134. Accuracy: 0.9293\n",
      "Iteration: 1100. Loss: 0.1527186632156372. Accuracy: 0.9309\n",
      "Iteration: 1200. Loss: 0.3250182867050171. Accuracy: 0.9336\n",
      "Iteration: 1300. Loss: 0.19059185683727264. Accuracy: 0.9371\n",
      "Iteration: 1400. Loss: 0.15002702176570892. Accuracy: 0.9379\n",
      "Iteration: 1500. Loss: 0.2472442090511322. Accuracy: 0.9414\n",
      "Iteration: 1600. Loss: 0.19617480039596558. Accuracy: 0.9411\n",
      "Iteration: 1700. Loss: 0.22346366941928864. Accuracy: 0.944\n",
      "Iteration: 1800. Loss: 0.31832826137542725. Accuracy: 0.9435\n",
      "Iteration: 1900. Loss: 0.1437985748052597. Accuracy: 0.9456\n",
      "Iteration: 2000. Loss: 0.13410893082618713. Accuracy: 0.946\n",
      "Iteration: 2100. Loss: 0.11687643080949783. Accuracy: 0.9468\n",
      "Iteration: 2200. Loss: 0.2553166449069977. Accuracy: 0.9469\n",
      "Iteration: 2300. Loss: 0.11879008263349533. Accuracy: 0.9492\n",
      "Iteration: 2400. Loss: 0.18675625324249268. Accuracy: 0.9503\n",
      "Iteration: 2500. Loss: 0.14339148998260498. Accuracy: 0.95\n",
      "Iteration: 2600. Loss: 0.11891984939575195. Accuracy: 0.9517\n",
      "Iteration: 2700. Loss: 0.19975267350673676. Accuracy: 0.9528\n",
      "Iteration: 2800. Loss: 0.08801594376564026. Accuracy: 0.954\n",
      "Iteration: 2900. Loss: 0.2539840042591095. Accuracy: 0.9526\n",
      "Iteration: 3000. Loss: 0.11670578271150589. Accuracy: 0.9548\n",
      "Iteration: 3100. Loss: 0.09466435760259628. Accuracy: 0.9555\n",
      "Iteration: 3200. Loss: 0.15525318682193756. Accuracy: 0.9565\n",
      "Iteration: 3300. Loss: 0.09582790732383728. Accuracy: 0.9571\n",
      "Iteration: 3400. Loss: 0.07124755531549454. Accuracy: 0.9569\n",
      "Iteration: 3500. Loss: 0.08680172264575958. Accuracy: 0.9582\n",
      "Iteration: 3600. Loss: 0.07654030621051788. Accuracy: 0.96\n",
      "Iteration: 3700. Loss: 0.10008493065834045. Accuracy: 0.9607\n",
      "Iteration: 3800. Loss: 0.09575189650058746. Accuracy: 0.9601\n",
      "Iteration: 3900. Loss: 0.08649726212024689. Accuracy: 0.961\n",
      "Iteration: 4000. Loss: 0.1454804539680481. Accuracy: 0.9604\n",
      "Iteration: 4100. Loss: 0.12146129459142685. Accuracy: 0.9616\n",
      "Iteration: 4200. Loss: 0.18456001579761505. Accuracy: 0.9617\n",
      "Iteration: 4300. Loss: 0.11822270601987839. Accuracy: 0.9628\n",
      "Iteration: 4400. Loss: 0.08903639763593674. Accuracy: 0.9625\n",
      "Iteration: 4500. Loss: 0.11957955360412598. Accuracy: 0.9642\n",
      "Iteration: 4600. Loss: 0.07976692914962769. Accuracy: 0.9657\n",
      "Iteration: 4700. Loss: 0.1521620750427246. Accuracy: 0.9645\n",
      "Iteration: 4800. Loss: 0.10853825509548187. Accuracy: 0.9647\n",
      "Iteration: 4900. Loss: 0.06981700658798218. Accuracy: 0.9661\n",
      "Iteration: 5000. Loss: 0.0631234422326088. Accuracy: 0.9659\n",
      "Iteration: 5100. Loss: 0.21660034358501434. Accuracy: 0.9659\n",
      "Iteration: 5200. Loss: 0.10017333924770355. Accuracy: 0.9649\n",
      "Iteration: 5300. Loss: 0.13703374564647675. Accuracy: 0.9667\n",
      "Iteration: 5400. Loss: 0.09681588411331177. Accuracy: 0.9672\n",
      "Iteration: 5500. Loss: 0.1347959190607071. Accuracy: 0.9667\n",
      "Iteration: 5600. Loss: 0.15670379996299744. Accuracy: 0.9671\n",
      "Iteration: 5700. Loss: 0.11303097754716873. Accuracy: 0.9673\n",
      "Iteration: 5800. Loss: 0.09653588384389877. Accuracy: 0.9677\n",
      "Iteration: 5900. Loss: 0.11475712805986404. Accuracy: 0.9688\n",
      "Iteration: 6000. Loss: 0.039505813270807266. Accuracy: 0.9667\n",
      "Iteration: 6100. Loss: 0.05073828622698784. Accuracy: 0.9681\n",
      "Iteration: 6200. Loss: 0.07037144154310226. Accuracy: 0.9684\n",
      "Iteration: 6300. Loss: 0.10935607552528381. Accuracy: 0.9693\n",
      "Iteration: 6400. Loss: 0.12841232120990753. Accuracy: 0.97\n",
      "Iteration: 6500. Loss: 0.07130714505910873. Accuracy: 0.9698\n",
      "Iteration: 6600. Loss: 0.12811394035816193. Accuracy: 0.9704\n",
      "Iteration: 6700. Loss: 0.04044295474886894. Accuracy: 0.9705\n",
      "Iteration: 6800. Loss: 0.0413438081741333. Accuracy: 0.9698\n",
      "Iteration: 6900. Loss: 0.1421261429786682. Accuracy: 0.9705\n",
      "Iteration: 7000. Loss: 0.04699349403381348. Accuracy: 0.9706\n",
      "Iteration: 7100. Loss: 0.0984945073723793. Accuracy: 0.9703\n",
      "Iteration: 7200. Loss: 0.07115237414836884. Accuracy: 0.9701\n",
      "Iteration: 7300. Loss: 0.1420678198337555. Accuracy: 0.9701\n",
      "Iteration: 7400. Loss: 0.08515654504299164. Accuracy: 0.9711\n",
      "Iteration: 7500. Loss: 0.0691794753074646. Accuracy: 0.9717\n",
      "Iteration: 7600. Loss: 0.05150985345244408. Accuracy: 0.9716\n",
      "Iteration: 7700. Loss: 0.05542108044028282. Accuracy: 0.9716\n",
      "Iteration: 7800. Loss: 0.033267296850681305. Accuracy: 0.9719\n",
      "Iteration: 7900. Loss: 0.07558708637952805. Accuracy: 0.9716\n",
      "Iteration: 8000. Loss: 0.05754829943180084. Accuracy: 0.9722\n",
      "Iteration: 8100. Loss: 0.02515421435236931. Accuracy: 0.9723\n",
      "Iteration: 8200. Loss: 0.06460679322481155. Accuracy: 0.9723\n",
      "Iteration: 8300. Loss: 0.10063429921865463. Accuracy: 0.9732\n",
      "Iteration: 8400. Loss: 0.09927293658256531. Accuracy: 0.9717\n",
      "Iteration: 8500. Loss: 0.03389385715126991. Accuracy: 0.9728\n",
      "Iteration: 8600. Loss: 0.05624848231673241. Accuracy: 0.9718\n",
      "Iteration: 8700. Loss: 0.02669874206185341. Accuracy: 0.9734\n",
      "Iteration: 8800. Loss: 0.018559647724032402. Accuracy: 0.9719\n",
      "Iteration: 8900. Loss: 0.043849777430295944. Accuracy: 0.9731\n",
      "Iteration: 9000. Loss: 0.033902671188116074. Accuracy: 0.9743\n"
     ]
    }
   ],
   "source": [
    "num_iter = 0\n",
    "loss_list = []\n",
    "accuracy_list = []\n",
    "iteration_list = []\n",
    "for epoch in range(nb_epoch):\n",
    "    for i, (images, labels) in enumerate(trainloader):\n",
    "        \n",
    "        images = Variable(images.view(-1, 28*28))\n",
    "        labels = Variable(labels)\n",
    "        \n",
    "        #Clear all gradients\n",
    "        optimizer.zero_grad()\n",
    "        \n",
    "        #Forward pass\n",
    "        outputs = model(images)\n",
    "        \n",
    "        #Loss\n",
    "        loss = criterion(outputs, labels)\n",
    "        \n",
    "        #Back Propagation\n",
    "        loss.backward()\n",
    "        \n",
    "        #Update the parameters\n",
    "        optimizer.step()\n",
    "        \n",
    "        num_iter+= 1\n",
    "        \n",
    "        if num_iter%100 == 0:\n",
    "            correct = 0\n",
    "            total = 0\n",
    "            for (images, labels) in testloader:\n",
    "                images = Variable(images.view(-1, 28*28))\n",
    "                #Forward pass to get the logits\n",
    "                outputs = model(images)\n",
    "                \n",
    "                #Get the predictions from the maximum value\n",
    "                _, predicted = torch.max(outputs.data, 1)\n",
    "                \n",
    "                #Total no. of labels\n",
    "                total+= labels.size(0)\n",
    "                \n",
    "                #Total corrected predictions\n",
    "                \n",
    "                correct+= (predicted == labels).sum()\n",
    "                \n",
    "            accuracy = correct/total\n",
    "            loss_list.append(loss.data[0])\n",
    "            accuracy_list.append(accuracy)\n",
    "            iteration_list.append(num_iter)\n",
    "            print('Iteration: {}. Loss: {}. Accuracy: {}'.format(num_iter, loss.data[0], accuracy))"
   ]
  },
  {
   "cell_type": "code",
   "execution_count": 176,
   "metadata": {},
   "outputs": [
    {
     "data": {
      "text/plain": [
       "<matplotlib.legend.Legend at 0x1106894a8>"
      ]
     },
     "execution_count": 176,
     "metadata": {},
     "output_type": "execute_result"
    },
    {
     "data": {
      "image/png": "[encoded data removed]",
      "text/plain": [
       "<matplotlib.figure.Figure at 0x111068080>"
      ]
     },
     "metadata": {},
     "output_type": "display_data"
    }
   ],
   "source": [
    "plt.figure(figsize= (12, 9))\n",
    "plt.clf()\n",
    "ax1 = plt.subplot(211)\n",
    "plt.plot(iteration_list,loss_list, 'bo-', label = 'Train Loss')\n",
    "plt.ylabel('Loss')\n",
    "plt.legend(loc = 'best')\n",
    "ax2 = plt.subplot(212)\n",
    "plt.plot(iteration_list, accuracy_list, 'r*-', label = 'Test Accuracy')\n",
    "plt.ylabel('Accuracy')\n",
    "plt.xlabel('Iteration')\n",
    "plt.legend(loc = 'best')"
   ]
  },
  {
   "cell_type": "code",
   "execution_count": null,
   "metadata": {
    "collapsed": true
   },
   "outputs": [],
   "source": []
  }
 ],
 "metadata": {
  "kernelspec": {
   "display_name": "Python 3",
   "language": "python",
   "name": "python3"
  },
  "language_info": {
   "codemirror_mode": {
    "name": "ipython",
    "version": 3
   },
   "file_extension": ".py",
   "mimetype": "text/x-python",
   "name": "python",
   "nbconvert_exporter": "python",
   "pygments_lexer": "ipython3",
   "version": "3.6.2"
  }
 },
 "nbformat": 4,
 "nbformat_minor": 2
}
