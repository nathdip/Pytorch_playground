{
 "cells": [
  {
   "cell_type": "code",
   "execution_count": 26,
   "metadata": {},
   "outputs": [],
   "source": [
    "import torch\n",
    "import torch.nn as nn\n",
    "import torchvision.datasets as dsets\n",
    "import torchvision.transforms as transforms\n",
    "from torch.autograd import Variable\n",
    "import numpy as np\n",
    "import matplotlib.pyplot as plt\n",
    "%matplotlib inline"
   ]
  },
  {
   "cell_type": "code",
   "execution_count": 27,
   "metadata": {},
   "outputs": [],
   "source": [
    "training_data = dsets.MNIST(root = './data', \n",
    "                            train = True, \n",
    "                            transform= transforms.ToTensor(), \n",
    "                            download = True)\n",
    "test_data = dsets.MNIST(root = './data', \n",
    "                        train = False, \n",
    "                        transform= transforms.ToTensor())"
   ]
  },
  {
   "cell_type": "code",
   "execution_count": 28,
   "metadata": {},
   "outputs": [],
   "source": [
    "batch_size = 100\n",
    "nb_epoch = 5"
   ]
  },
  {
   "cell_type": "code",
   "execution_count": 29,
   "metadata": {},
   "outputs": [],
   "source": [
    "trainloader = torch.utils.data.DataLoader(dataset=training_data, batch_size= batch_size, shuffle= True)\n",
    "testloader = torch.utils.data.DataLoader(dataset=test_data, batch_size= batch_size, shuffle= False)"
   ]
  },
  {
   "cell_type": "markdown",
   "metadata": {},
   "source": [
    "### Creating the Convolutional Neural Network Model"
   ]
  },
  {
   "cell_type": "markdown",
   "metadata": {},
   "source": [
    "### Output formulation for Convolution\n",
    "\n",
    "-  $O = \\frac{W-K+2P}{S}+1$\n",
    "    -  $O:$ Output height/length\n",
    "    -  $W:$ Input height/length\n",
    "    -  $K:$ Filter/Kernel Size\n",
    "    -  $P:$ Same Padding(Non Zero)\n",
    "        -  $P = \\frac{K-1}{2}$\n",
    "    -  $S:$ Stride\n",
    "\n",
    "\n",
    "### Output formulation for Pooling\n",
    "-  $O = \\frac{W}{K}$\n",
    "    -  $O:$ Output size\n",
    "    -  $W:$ Input Size\n",
    "    -  $K:$ Filter size \n",
    "    \n",
    "Convolutional layer 1:\n",
    "$W = 28$, $K = 5$, $S = 1$. Therefore in order to have same padding we will have $P = \\frac{5-1}{2} = 2$ \n",
    "\n",
    "Output $O = \\frac{28 - 5 + 2\\times2}{1} + 1 = 28$\n",
    "\n",
    "After Pooling Layer 1:\n",
    "\n",
    "$W = 28$, $K = 2$\n",
    "$O = \\frac{28}{2} = 14$\n",
    "\n",
    "Convolutional Layer 2:\n",
    "\n",
    "$W = 14$, $K = 5$, $S = 1 $. For same padding, $P = \\frac{5-1}{2} = 2$\n",
    "\n",
    "$O = \\frac{14-5+2\\times2}{1}+1  = 14$\n",
    "\n",
    "After Pooling Layer 2:\n",
    "\n",
    "$W = 14$, $K = 2$\n",
    "\n",
    "$O = \\frac{14}{2} = 7$\n"
   ]
  },
  {
   "cell_type": "code",
   "execution_count": 30,
   "metadata": {},
   "outputs": [],
   "source": [
    "class CNNModel(nn.Module):\n",
    "    def __init__(self):\n",
    "        super().__init__()\n",
    "        #Convolutional Layer 1\n",
    "        self.conv1 = nn.Conv2d(in_channels= 1, out_channels= 16, kernel_size= 5, stride= 1, padding=2 )\n",
    "        self.relu1 = nn.ReLU()\n",
    "        \n",
    "        #Pooling Layer 1\n",
    "        self.maxpool1 = nn.MaxPool2d(2)\n",
    "        \n",
    "        #Convolutional Layer 2\n",
    "        self.conv2 = nn.Conv2d(in_channels=16, out_channels=32, kernel_size= 5, stride= 1, padding= 2)\n",
    "        self.relu2 = nn.ReLU()\n",
    "        \n",
    "        #Pooling layer 2\n",
    "        self.maxpool2 = nn.MaxPool2d(2)\n",
    "        \n",
    "        #Full connect\n",
    "        self.fc1 = nn.Linear(32*7*7, 10)\n",
    "        \n",
    "    def forward(self, x):\n",
    "        #Convolutional Layer 1\n",
    "        out = self.conv1(x)\n",
    "        out = self.relu1(out)\n",
    "        #Pooling layer 1\n",
    "        out = self.maxpool1(out)\n",
    "        #Convolutional Layer 1\n",
    "        out = self.conv2(out)\n",
    "        out = self.relu2(out)\n",
    "        #Pooling layer 2\n",
    "        out = self.maxpool2(out)\n",
    "        \n",
    "        #flattening the output before \n",
    "        out = out.view(out.size(0), -1)\n",
    "        \n",
    "        #Full connect layer\n",
    "        out = self.fc1(out)\n",
    "        return out\n",
    "        "
   ]
  },
  {
   "cell_type": "markdown",
   "metadata": {},
   "source": [
    "### Instantiate the model class"
   ]
  },
  {
   "cell_type": "code",
   "execution_count": 31,
   "metadata": {},
   "outputs": [],
   "source": [
    "model = CNNModel()"
   ]
  },
  {
   "cell_type": "markdown",
   "metadata": {},
   "source": [
    "### Loss function\n",
    "\n",
    "- Cross Entropy Function"
   ]
  },
  {
   "cell_type": "code",
   "execution_count": 32,
   "metadata": {},
   "outputs": [],
   "source": [
    "criterion = nn.CrossEntropyLoss()"
   ]
  },
  {
   "cell_type": "code",
   "execution_count": 33,
   "metadata": {},
   "outputs": [
    {
     "name": "stdout",
     "output_type": "stream",
     "text": [
      "torch.Size([16, 1, 5, 5])\n",
      "torch.Size([16])\n",
      "torch.Size([32, 16, 5, 5])\n",
      "torch.Size([32])\n",
      "torch.Size([10, 1568])\n",
      "torch.Size([10])\n"
     ]
    }
   ],
   "source": [
    "print(list(model.parameters())[0].size())\n",
    "print(list(model.parameters())[1].size())\n",
    "print(list(model.parameters())[2].size())\n",
    "print(list(model.parameters())[3].size())\n",
    "print(list(model.parameters())[4].size())\n",
    "print(list(model.parameters())[5].size())"
   ]
  },
  {
   "cell_type": "markdown",
   "metadata": {},
   "source": [
    "### Training the model"
   ]
  },
  {
   "cell_type": "code",
   "execution_count": 34,
   "metadata": {},
   "outputs": [
    {
     "name": "stdout",
     "output_type": "stream",
     "text": [
      "<bound method Module.parameters of CNNModel(\n",
      "  (conv1): Conv2d(1, 16, kernel_size=(5, 5), stride=(1, 1), padding=(2, 2))\n",
      "  (relu1): ReLU()\n",
      "  (maxpool1): MaxPool2d(kernel_size=(2, 2), stride=(2, 2), dilation=(1, 1), ceil_mode=False)\n",
      "  (conv2): Conv2d(16, 32, kernel_size=(5, 5), stride=(1, 1), padding=(2, 2))\n",
      "  (relu2): ReLU()\n",
      "  (maxpool2): MaxPool2d(kernel_size=(2, 2), stride=(2, 2), dilation=(1, 1), ceil_mode=False)\n",
      "  (fc1): Linear(in_features=1568, out_features=10, bias=True)\n",
      ")>\n"
     ]
    }
   ],
   "source": [
    "print(model.parameters)"
   ]
  },
  {
   "cell_type": "code",
   "execution_count": 35,
   "metadata": {},
   "outputs": [],
   "source": [
    "learning_rate = .01\n",
    "optimizer = torch.optim.SGD(model.parameters(), lr= learning_rate)"
   ]
  },
  {
   "cell_type": "code",
   "execution_count": 37,
   "metadata": {},
   "outputs": [
    {
     "name": "stdout",
     "output_type": "stream",
     "text": [
      "Iteration: 500. Loss: 0.37619054317474365. Accuracy: 0.8894\n",
      "Iteration: 1000. Loss: 0.34143680334091187. Accuracy: 0.9304\n",
      "Iteration: 1500. Loss: 0.10649104416370392. Accuracy: 0.9468\n",
      "Iteration: 2000. Loss: 0.14509887993335724. Accuracy: 0.954\n",
      "Iteration: 2500. Loss: 0.14955678582191467. Accuracy: 0.9617\n",
      "Iteration: 3000. Loss: 0.14438007771968842. Accuracy: 0.9671\n"
     ]
    }
   ],
   "source": [
    "num_iter = 0\n",
    "loss_list = []\n",
    "accuracy_list = []\n",
    "iteration_list = []\n",
    "for epoch in range(nb_epoch):\n",
    "    for i, (images, labels) in enumerate(trainloader):\n",
    "        \n",
    "        images = Variable(images)\n",
    "        labels = Variable(labels)\n",
    "        \n",
    "        #Clear all gradients\n",
    "        optimizer.zero_grad()\n",
    "        \n",
    "        #Forward pass\n",
    "        outputs = model(images)\n",
    "        \n",
    "        #Loss\n",
    "        loss = criterion(outputs, labels)\n",
    "        \n",
    "        #Back Propagation\n",
    "        loss.backward()\n",
    "        \n",
    "        #Update the parameters\n",
    "        optimizer.step()\n",
    "        \n",
    "        num_iter+= 1\n",
    "        \n",
    "        if num_iter%500 == 0:\n",
    "            correct = 0\n",
    "            total = 0\n",
    "            for (images, labels) in testloader:\n",
    "                images = Variable(images)\n",
    "                #Forward pass to get the logits\n",
    "                outputs = model(images)\n",
    "                \n",
    "                #Get the predictions from the maximum value\n",
    "                _, predicted = torch.max(outputs.data, 1)\n",
    "                \n",
    "                #Total no. of labels\n",
    "                total+= labels.size(0)\n",
    "                \n",
    "                #Total corrected predictions\n",
    "                \n",
    "                correct+= (predicted == labels).sum()\n",
    "                \n",
    "            accuracy = correct/total\n",
    "            loss_list.append(loss.data[0])\n",
    "            accuracy_list.append(accuracy)\n",
    "            iteration_list.append(num_iter)\n",
    "            print('Iteration: {}. Loss: {}. Accuracy: {}'.format(num_iter, loss.data[0], accuracy))"
   ]
  },
  {
   "cell_type": "code",
   "execution_count": 40,
   "metadata": {},
   "outputs": [
    {
     "data": {
      "text/plain": [
       "<matplotlib.legend.Legend at 0x11c534b70>"
      ]
     },
     "execution_count": 40,
     "metadata": {},
     "output_type": "execute_result"
    },
    {
     "data": {
      "image/png": "[encoded data removed]",
      "text/plain": [
       "<matplotlib.figure.Figure at 0x10a002438>"
      ]
     },
     "metadata": {},
     "output_type": "display_data"
    }
   ],
   "source": [
    "plt.figure(figsize= (12, 9))\n",
    "plt.clf()\n",
    "ax1 = plt.subplot(211)\n",
    "plt.plot(iteration_list,loss_list, 'bo-', label = 'Train Loss')\n",
    "plt.ylabel('Loss')\n",
    "plt.setp(ax1.get_xticklabels(), fontsize=10)\n",
    "plt.legend(loc = 'best')\n",
    "ax2 = plt.subplot(212, sharex = ax1)\n",
    "plt.plot(iteration_list, accuracy_list, 'r*-', label = 'Test Accuracy')\n",
    "plt.ylabel('Accuracy')\n",
    "plt.xlabel('Iteration')\n",
    "plt.legend(loc = 'best')"
   ]
  },
  {
   "cell_type": "code",
   "execution_count": null,
   "metadata": {},
   "outputs": [],
   "source": []
  }
 ],
 "metadata": {
  "kernelspec": {
   "display_name": "Python 3",
   "language": "python",
   "name": "python3"
  },
  "language_info": {
   "codemirror_mode": {
    "name": "ipython",
    "version": 3
   },
   "file_extension": ".py",
   "mimetype": "text/x-python",
   "name": "python",
   "nbconvert_exporter": "python",
   "pygments_lexer": "ipython3",
   "version": "3.6.4"
  }
 },
 "nbformat": 4,
 "nbformat_minor": 2
}
